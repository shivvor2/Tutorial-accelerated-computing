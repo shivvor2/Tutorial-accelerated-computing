{
 "cells": [
  {
   "cell_type": "markdown",
   "metadata": {},
   "source": [
    "# Tutorial -- Accelerated Computing (Free Lunch)"
   ]
  },
  {
   "cell_type": "markdown",
   "metadata": {},
   "source": [
    "This section introduce tools that provide accleration **without the need to interact with GPU resources**"
   ]
  },
  {
   "cell_type": "markdown",
   "metadata": {},
   "source": [
    "## Preperation check"
   ]
  },
  {
   "cell_type": "markdown",
   "metadata": {},
   "source": [
    "### Check for GPU availiability"
   ]
  },
  {
   "cell_type": "code",
   "execution_count": 1,
   "metadata": {},
   "outputs": [
    {
     "name": "stdout",
     "output_type": "stream",
     "text": [
      "Thu Mar 21 17:27:03 2024       \n",
      "+---------------------------------------------------------------------------------------+\n",
      "| NVIDIA-SMI 535.112                Driver Version: 537.42       CUDA Version: 12.2     |\n",
      "|-----------------------------------------+----------------------+----------------------+\n",
      "| GPU  Name                 Persistence-M | Bus-Id        Disp.A | Volatile Uncorr. ECC |\n",
      "| Fan  Temp   Perf          Pwr:Usage/Cap |         Memory-Usage | GPU-Util  Compute M. |\n",
      "|                                         |                      |               MIG M. |\n",
      "|=========================================+======================+======================|\n",
      "|   0  NVIDIA GeForce RTX 2070 ...    On  | 00000000:01:00.0  On |                  N/A |\n",
      "| 46%   42C    P0              48W / 319W |    883MiB /  8192MiB |      1%      Default |\n",
      "|                                         |                      |                  N/A |\n",
      "+-----------------------------------------+----------------------+----------------------+\n",
      "                                                                                         \n",
      "+---------------------------------------------------------------------------------------+\n",
      "| Processes:                                                                            |\n",
      "|  GPU   GI   CI        PID   Type   Process name                            GPU Memory |\n",
      "|        ID   ID                                                             Usage      |\n",
      "|=======================================================================================|\n",
      "|    0   N/A  N/A        33      G   /Xwayland                                 N/A      |\n",
      "+---------------------------------------------------------------------------------------+\n"
     ]
    }
   ],
   "source": [
    "!nvidia-smi"
   ]
  },
  {
   "cell_type": "code",
   "execution_count": 15,
   "metadata": {},
   "outputs": [
    {
     "name": "stdout",
     "output_type": "stream",
     "text": [
      "math already installed\n",
      "numba already installed\n",
      "sklearn already installed\n",
      "matplotlib already installed\n"
     ]
    }
   ],
   "source": [
    "import importlib.util\n",
    "\n",
    "def check_module_availiability(names: list[str]):\n",
    "    remaining = []\n",
    "    for name in names:\n",
    "        if (spec := importlib.util.find_spec(name)) is not None:\n",
    "            print(f\"{name} already installed\")\n",
    "        else:\n",
    "            print(f\"{name} not installed\")\n",
    "            remaining.append(name)\n",
    "            \n",
    "    if remaining: # not empty i.e. not all libraries are installed\n",
    "        print(\"Install the required modules for the tutorial with the following command:\")\n",
    "        print(f\"pip install {' '.join(remaining)}\")\n",
    "        \n",
    "names = [\"math\", \"numba\", \"sklearn\", \"matplotlib\"]\n",
    "\n",
    "check_module_availiability(names)"
   ]
  },
  {
   "cell_type": "markdown",
   "metadata": {},
   "source": [
    "### Check for CUDA availiability"
   ]
  },
  {
   "cell_type": "code",
   "execution_count": 2,
   "metadata": {},
   "outputs": [
    {
     "data": {
      "text/plain": [
       "True"
      ]
     },
     "execution_count": 2,
     "metadata": {},
     "output_type": "execute_result"
    }
   ],
   "source": [
    "import numba.cuda\n",
    "\n",
    "numba.cuda.is_available()"
   ]
  },
  {
   "cell_type": "markdown",
   "metadata": {},
   "source": [
    "## Accelerating functions with numba headers"
   ]
  },
  {
   "cell_type": "markdown",
   "metadata": {},
   "source": [
    "### numba @jit compiler "
   ]
  },
  {
   "cell_type": "markdown",
   "metadata": {},
   "source": [
    "We first consider a function that estimates the area under curve:\n",
    "(If maximum/ minimum does not occur at end of range, will need to provide extrema value manually)"
   ]
  },
  {
   "cell_type": "code",
   "execution_count": 36,
   "metadata": {},
   "outputs": [],
   "source": [
    "import random\n",
    "import math\n",
    "\n",
    "def estimate_area_under_quarter_circle(num_samples):\n",
    "    # Implicitly: area of square = 1\n",
    "    under_curve_points = 0\n",
    "    total_points = 0\n",
    "\n",
    "    for _ in range(num_samples):\n",
    "        x = random.uniform(0, 1)\n",
    "        y = random.uniform(0, 1)\n",
    "\n",
    "        if math.sqrt(x**2 + y**2) < 1:\n",
    "            under_curve_points += 1\n",
    "        total_points += 1\n",
    "\n",
    "    area_estimate = 1 * (under_curve_points / total_points)\n",
    "    return area_estimate"
   ]
  },
  {
   "cell_type": "markdown",
   "metadata": {},
   "source": [
    "Calling the function"
   ]
  },
  {
   "cell_type": "code",
   "execution_count": 39,
   "metadata": {},
   "outputs": [
    {
     "name": "stdout",
     "output_type": "stream",
     "text": [
      "Estimated area under the curve: 0.78586\n"
     ]
    }
   ],
   "source": [
    "n_samples = 1000000\n",
    "\n",
    "estimated_area = estimate_area_under_quarter_circle(n_samples)\n",
    "\n",
    "print(f\"Estimated area under the curve: {estimated_area}\") # should return 0.7853..."
   ]
  },
  {
   "cell_type": "markdown",
   "metadata": {},
   "source": [
    "Now, the function could be accelerated by the simple use of a jit decorator"
   ]
  },
  {
   "cell_type": "code",
   "execution_count": 40,
   "metadata": {},
   "outputs": [
    {
     "name": "stderr",
     "output_type": "stream",
     "text": [
      "/tmp/ipykernel_34697/2946109236.py:5: NumbaDeprecationWarning: \u001b[1mThe 'nopython' keyword argument was not supplied to the 'numba.jit' decorator. The implicit default value for this argument is currently False, but it will be changed to True in Numba 0.59.0. See https://numba.readthedocs.io/en/stable/reference/deprecation.html#deprecation-of-object-mode-fall-back-behaviour-when-using-jit for details.\u001b[0m\n",
      "  @jit\n"
     ]
    }
   ],
   "source": [
    "import random\n",
    "import math\n",
    "from numba import jit\n",
    "\n",
    "@jit(nopython = True)\n",
    "def estimate_area_under_quarter_circle_jit(num_samples):\n",
    "    # Implicitly: area of square = 1\n",
    "    under_curve_points = 0\n",
    "    total_points = 0\n",
    "\n",
    "    for _ in range(num_samples):\n",
    "        x = random.uniform(0, 1)\n",
    "        y = random.uniform(0, 1)\n",
    "\n",
    "        if math.sqrt(x**2 + y**2) < 1:\n",
    "            under_curve_points += 1\n",
    "        total_points += 1\n",
    "\n",
    "    area_estimate = 1 * (under_curve_points / total_points)\n",
    "    return area_estimate"
   ]
  },
  {
   "cell_type": "code",
   "execution_count": 45,
   "metadata": {},
   "outputs": [
    {
     "name": "stdout",
     "output_type": "stream",
     "text": [
      "Estimated area under the curve: 0.784984\n"
     ]
    }
   ],
   "source": [
    "estimated_area =  estimate_area_under_quarter_circle_jit(n_samples)\n",
    "\n",
    "print(f\"Estimated area under the curve: {estimated_area}\") # should return 0.7853..."
   ]
  },
  {
   "cell_type": "markdown",
   "metadata": {},
   "source": [
    "Time Comparison:"
   ]
  },
  {
   "cell_type": "code",
   "execution_count": 52,
   "metadata": {},
   "outputs": [
    {
     "name": "stdout",
     "output_type": "stream",
     "text": [
      "374 ms ± 3.23 ms per loop (mean ± std. dev. of 5 runs, 10 loops each)\n"
     ]
    }
   ],
   "source": [
    "# Uncompiled function\n",
    "%timeit -r 5 -n 10 estimate_area_under_quarter_circle(n_samples)"
   ]
  },
  {
   "cell_type": "code",
   "execution_count": 53,
   "metadata": {},
   "outputs": [
    {
     "name": "stdout",
     "output_type": "stream",
     "text": [
      "8.1 ms ± 66.8 µs per loop (mean ± std. dev. of 5 runs, 10 loops each)\n"
     ]
    }
   ],
   "source": [
    "# jit compiled function\n",
    "%timeit -r 5 -n 10 estimate_area_under_quarter_circle_jit(n_samples)"
   ]
  },
  {
   "cell_type": "markdown",
   "metadata": {},
   "source": [
    "Notes:\n",
    "- @jit decorator allows for compilation of python code, but it only supports a [subset](https://numba.pydata.org/numba-doc/dev/reference/pysupported.html) of python features\n",
    "- @jit by default compiles does not compile completely (as of writing, version = 0.57.1), will need to provide arguement i.e. @jit(nopython = true) = @njit, so that the python interpreter is not involved (complete compilation)."
   ]
  }
 ],
 "metadata": {
  "kernelspec": {
   "display_name": "base",
   "language": "python",
   "name": "python3"
  },
  "language_info": {
   "codemirror_mode": {
    "name": "ipython",
    "version": 3
   },
   "file_extension": ".py",
   "mimetype": "text/x-python",
   "name": "python",
   "nbconvert_exporter": "python",
   "pygments_lexer": "ipython3",
   "version": "3.11.5"
  }
 },
 "nbformat": 4,
 "nbformat_minor": 2
}
